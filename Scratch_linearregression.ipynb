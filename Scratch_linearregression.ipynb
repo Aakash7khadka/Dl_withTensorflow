{
  "nbformat": 4,
  "nbformat_minor": 0,
  "metadata": {
    "colab": {
      "name": "Scratch_linearregression",
      "provenance": [],
      "authorship_tag": "ABX9TyO/jvKuOnv4cfpPq5A2N/e7",
      "include_colab_link": true
    },
    "kernelspec": {
      "name": "python3",
      "display_name": "Python 3"
    }
  },
  "cells": [
    {
      "cell_type": "markdown",
      "metadata": {
        "id": "view-in-github",
        "colab_type": "text"
      },
      "source": [
        "<a href=\"https://colab.research.google.com/github/Aakash7khadka/Dl_withTensorflow/blob/main/Scratch_linearregression.ipynb\" target=\"_parent\"><img src=\"https://colab.research.google.com/assets/colab-badge.svg\" alt=\"Open In Colab\"/></a>"
      ]
    },
    {
      "cell_type": "code",
      "metadata": {
        "id": "bLcD6Z-8Zo9c"
      },
      "source": [
        "import tensorflow as tf\r\n",
        "import numpy as np \r\n",
        "import random\r\n",
        "import matplotlib.pyplot as plt"
      ],
      "execution_count": 53,
      "outputs": []
    },
    {
      "cell_type": "code",
      "metadata": {
        "colab": {
          "base_uri": "https://localhost:8080/"
        },
        "id": "D_otejdMaUC-",
        "outputId": "817f65f4-dc33-4c6f-9efa-8928b6bc7857"
      },
      "source": [
        "#y=WX+b\r\n",
        "def synthetic_data(w,b,num_examples):\r\n",
        "  X=tf.zeros((num_examples,w.shape[0]))\r\n",
        "  X=tf.random.normal(shape=X.shape)\r\n",
        "  y=tf.matmul(X,tf.reshape(w,(X.shape[1],-1)))+b\r\n",
        "  return X,y\r\n",
        "\r\n",
        "\r\n",
        "\r\n",
        "\r\n",
        "true_w=tf.constant([2,-3.14])\r\n",
        "true_b=4.2\r\n",
        "synthetic_data(true_w,true_b,10)\r\n"
      ],
      "execution_count": 54,
      "outputs": [
        {
          "output_type": "execute_result",
          "data": {
            "text/plain": [
              "(<tf.Tensor: shape=(10, 2), dtype=float32, numpy=\n",
              " array([[ 1.4681964 ,  0.17787707],\n",
              "        [-0.05863094,  1.0864481 ],\n",
              "        [ 1.1843045 ,  0.51023   ],\n",
              "        [ 0.08131786,  0.34896803],\n",
              "        [-1.2388889 , -1.0095463 ],\n",
              "        [-0.22999854,  0.94257885],\n",
              "        [ 1.2770703 , -0.19264908],\n",
              "        [ 1.1752777 , -0.36756313],\n",
              "        [ 0.96793044,  1.0510114 ],\n",
              "        [ 0.59473485, -0.5561898 ]], dtype=float32)>,\n",
              " <tf.Tensor: shape=(10, 1), dtype=float32, numpy=\n",
              " array([[6.577859 ],\n",
              "        [0.6712909],\n",
              "        [4.9664865],\n",
              "        [3.2668757],\n",
              "        [4.8921976],\n",
              "        [0.7803049],\n",
              "        [7.3590584],\n",
              "        [7.7047033],\n",
              "        [2.8356848],\n",
              "        [7.1359053]], dtype=float32)>)"
            ]
          },
          "metadata": {
            "tags": []
          },
          "execution_count": 54
        }
      ]
    },
    {
      "cell_type": "code",
      "metadata": {
        "id": "VvOUj9TjcdSe"
      },
      "source": [
        "features,labels=synthetic_data(true_w,true_b,1000)"
      ],
      "execution_count": 55,
      "outputs": []
    },
    {
      "cell_type": "code",
      "metadata": {
        "colab": {
          "base_uri": "https://localhost:8080/",
          "height": 282
        },
        "id": "4BbsXpZxgyGG",
        "outputId": "32b98261-1a3f-43d9-f216-4f2b475303a2"
      },
      "source": [
        "plt.scatter(features[:,1],labels)"
      ],
      "execution_count": 56,
      "outputs": [
        {
          "output_type": "execute_result",
          "data": {
            "text/plain": [
              "<matplotlib.collections.PathCollection at 0x7f7e4125ada0>"
            ]
          },
          "metadata": {
            "tags": []
          },
          "execution_count": 56
        },
        {
          "output_type": "display_data",
          "data": {
            "image/png": "[encoded data removed]",
            "text/plain": [
              "<Figure size 432x288 with 1 Axes>"
            ]
          },
          "metadata": {
            "tags": [],
            "needs_background": "light"
          }
        }
      ]
    },
    {
      "cell_type": "code",
      "metadata": {
        "id": "cO17-tllhGA6"
      },
      "source": [
        "def data_iter(features,labels,batch_size):\r\n",
        "  n=len(features)\r\n",
        "  indices=list(range(n))\r\n",
        "  random.shuffle(indices)\r\n",
        "  for i in range(0,n,batch_size):\r\n",
        "    j=tf.constant(indices[i:min(i+batch_size,n)])\r\n",
        "    yield tf.gather(features,j),tf.gather(labels,j)"
      ],
      "execution_count": 57,
      "outputs": []
    },
    {
      "cell_type": "code",
      "metadata": {
        "colab": {
          "base_uri": "https://localhost:8080/"
        },
        "id": "ywSk1D3ynIq8",
        "outputId": "c602bf48-ce75-436a-89fc-cee095ee426d"
      },
      "source": [
        "for X,y in data_iter(features,labels,10):\r\n",
        "  print(X,y)\r\n",
        "  break"
      ],
      "execution_count": 58,
      "outputs": [
        {
          "output_type": "stream",
          "text": [
            "tf.Tensor(\n",
            "[[-0.20573564  0.98208785]\n",
            " [ 0.2943914   0.4105503 ]\n",
            " [ 0.7168842  -0.44536713]\n",
            " [ 1.6747911   0.8592151 ]\n",
            " [-0.7423156   0.874748  ]\n",
            " [-0.72586375 -0.07086498]\n",
            " [-1.5275283  -0.8161942 ]\n",
            " [-0.44184858  0.37693426]\n",
            " [ 0.03345824  0.28872633]\n",
            " [ 1.1178082   0.05667622]], shape=(10, 2), dtype=float32) tf.Tensor(\n",
            "[[ 0.7047725 ]\n",
            " [ 3.4996548 ]\n",
            " [ 7.032221  ]\n",
            " [ 4.8516464 ]\n",
            " [-0.03134012]\n",
            " [ 2.9707885 ]\n",
            " [ 3.707793  ]\n",
            " [ 2.132729  ]\n",
            " [ 3.3603156 ]\n",
            " [ 6.257653  ]], shape=(10, 1), dtype=float32)\n"
          ],
          "name": "stdout"
        }
      ]
    },
    {
      "cell_type": "code",
      "metadata": {
        "id": "Y89-9ysiwKpt"
      },
      "source": [
        "#initializing model parameters\r\n",
        "w=tf.Variable(tf.random.normal((2,1),mean=0,stddev=0.01),trainable=True)\r\n",
        "b=tf.Variable(tf.ones(1),trainable=True)"
      ],
      "execution_count": 59,
      "outputs": []
    },
    {
      "cell_type": "code",
      "metadata": {
        "id": "B1obKUWdxDFN"
      },
      "source": [
        "#training function \r\n",
        "def linreg(X,w,b):\r\n",
        "  return tf.matmul(X,w)+b"
      ],
      "execution_count": 60,
      "outputs": []
    },
    {
      "cell_type": "code",
      "metadata": {
        "id": "Mt8jrSPPxTJE"
      },
      "source": [
        "#loss function \r\n",
        "def loss(y_hat,y):\r\n",
        "  return (y_hat-tf.reshape(y,y_hat.shape))**2/2"
      ],
      "execution_count": 61,
      "outputs": []
    },
    {
      "cell_type": "code",
      "metadata": {
        "id": "ql2_SxeBxj0k"
      },
      "source": [
        "#gradient descent function \r\n",
        "def sgd(lr,params,grads,batch_size):\r\n",
        "  for param,grad in zip(params,grads):\r\n",
        "    param.assign_sub(lr*grad/batch_size)"
      ],
      "execution_count": 62,
      "outputs": []
    },
    {
      "cell_type": "code",
      "metadata": {
        "colab": {
          "base_uri": "https://localhost:8080/"
        },
        "id": "yesFVR5Py1cD",
        "outputId": "22547525-62de-4fc5-b8d4-b8c696173f49"
      },
      "source": [
        "lr=0.01\r\n",
        "batch_size=10\r\n",
        "for epoch in range(5):\r\n",
        "  for X,y in data_iter(features,labels,batch_size):\r\n",
        "    with tf.GradientTape() as g:\r\n",
        "      l=loss(linreg(X,w,b),y)\r\n",
        "\r\n",
        "      dw,db=g.gradient(l,[w,b])\r\n",
        "      sgd(lr,[w,b],[dw,db],batch_size)\r\n",
        "  training_loss=loss(linreg(features,w,b),labels)\r\n",
        "  print(f\"Epochs{epoch} loss:{tf.reduce_mean(training_loss)}\")\r\n",
        "    "
      ],
      "execution_count": 63,
      "outputs": [
        {
          "output_type": "stream",
          "text": [
            "Epochs0 loss:1.5918720960617065\n",
            "Epochs1 loss:0.20814445614814758\n",
            "Epochs2 loss:0.02729170210659504\n",
            "Epochs3 loss:0.003585210768505931\n",
            "Epochs4 loss:0.00047269155038520694\n"
          ],
          "name": "stdout"
        }
      ]
    },
    {
      "cell_type": "code",
      "metadata": {
        "id": "AkoldoL22EGd"
      },
      "source": [
        ""
      ],
      "execution_count": 63,
      "outputs": []
    }
  ]
}