{
  "nbformat": 4,
  "nbformat_minor": 0,
  "metadata": {
    "colab": {
      "name": "linear_regression_with_apis",
      "provenance": [],
      "authorship_tag": "ABX9TyOOp1W0Lqkqq8z7YYxF8XA4",
      "include_colab_link": true
    },
    "kernelspec": {
      "name": "python3",
      "display_name": "Python 3"
    }
  },
  "cells": [
    {
      "cell_type": "markdown",
      "metadata": {
        "id": "view-in-github",
        "colab_type": "text"
      },
      "source": [
        "<a href=\"https://colab.research.google.com/github/Aakash7khadka/Dl_withTensorflow/blob/main/linear_regression_with_apis.ipynb\" target=\"_parent\"><img src=\"https://colab.research.google.com/assets/colab-badge.svg\" alt=\"Open In Colab\"/></a>"
      ]
    },
    {
      "cell_type": "code",
      "metadata": {
        "id": "jtf8nqbFw8FI"
      },
      "source": [
        "import tensorflow as tf\r\n",
        "import numpy as np \r\n"
      ],
      "execution_count": 1,
      "outputs": []
    },
    {
      "cell_type": "code",
      "metadata": {
        "id": "dpCTaaeIxQeY"
      },
      "source": [
        "def synthetic_data(num_data):\r\n",
        "  w=tf.constant([3.0,-1])\r\n",
        "  b=tf.constant([2.9])\r\n",
        "  X=tf.random.normal((num_data,2))\r\n",
        "  y=tf.matmul(X,tf.reshape(w,(X.shape[1],-1)))+b\r\n",
        "  return X,y"
      ],
      "execution_count": 17,
      "outputs": []
    },
    {
      "cell_type": "code",
      "metadata": {
        "id": "dX-35DTb1Aeh"
      },
      "source": [
        "features,labels=synthetic_data(10000)"
      ],
      "execution_count": 18,
      "outputs": []
    },
    {
      "cell_type": "code",
      "metadata": {
        "id": "EyeNxEf8xx_7"
      },
      "source": [
        "def load_data(data_arrays,batch_size,is_train=True):\r\n",
        "  dataset=tf.data.Dataset.from_tensor_slices(data_arrays)\r\n",
        "  if is_train:\r\n",
        "    dataset.shuffle(buffer_size=1000)\r\n",
        "  dataset=dataset.batch(batch_size)\r\n",
        "  return dataset"
      ],
      "execution_count": 16,
      "outputs": []
    },
    {
      "cell_type": "code",
      "metadata": {
        "id": "DEt6lko9yTY0"
      },
      "source": [
        "data_iter=load_data((features,labels),64)"
      ],
      "execution_count": 19,
      "outputs": []
    },
    {
      "cell_type": "code",
      "metadata": {
        "colab": {
          "base_uri": "https://localhost:8080/"
        },
        "id": "ZuA0VIU1ymuJ",
        "outputId": "fa2bceaa-595b-404a-e51c-fcb25b244d81"
      },
      "source": [
        "next(iter(data_iter))"
      ],
      "execution_count": 21,
      "outputs": [
        {
          "output_type": "execute_result",
          "data": {
            "text/plain": [
              "(<tf.Tensor: shape=(64, 2), dtype=float32, numpy=\n",
              " array([[-1.1706324 , -0.6958932 ],\n",
              "        [-0.88064396,  1.5541692 ],\n",
              "        [ 0.8515575 , -0.82010967],\n",
              "        [-0.6318285 , -0.10293338],\n",
              "        [ 0.5783406 , -0.66213614],\n",
              "        [-0.19553785,  2.1142359 ],\n",
              "        [ 0.533573  ,  0.41331744],\n",
              "        [-1.7250172 ,  1.462265  ],\n",
              "        [ 0.786884  , -0.615385  ],\n",
              "        [ 0.7774199 , -0.11761327],\n",
              "        [-0.17025405,  0.3593173 ],\n",
              "        [-0.7090659 , -1.0655371 ],\n",
              "        [-1.5768644 , -0.8244663 ],\n",
              "        [ 0.7897461 ,  0.81690717],\n",
              "        [-0.6299443 , -0.8930505 ],\n",
              "        [-1.6107708 ,  1.0395257 ],\n",
              "        [-1.2378793 , -1.7350028 ],\n",
              "        [ 0.4806228 , -1.7130189 ],\n",
              "        [ 1.9271421 , -1.2677598 ],\n",
              "        [ 0.6178997 , -0.60453844],\n",
              "        [-0.9661715 , -0.04373197],\n",
              "        [ 0.9897997 ,  0.10726447],\n",
              "        [-0.0659196 ,  0.02091685],\n",
              "        [-0.20697714, -0.8168799 ],\n",
              "        [-0.55645424,  0.40434384],\n",
              "        [ 0.90455174, -0.20258237],\n",
              "        [ 0.15401858,  1.1377275 ],\n",
              "        [-1.8466907 , -0.03869528],\n",
              "        [-0.7482874 , -1.2454592 ],\n",
              "        [-0.2536396 ,  1.5182759 ],\n",
              "        [-1.5332985 ,  1.134688  ],\n",
              "        [-0.47568756,  0.13696271],\n",
              "        [-0.3103113 ,  0.2020196 ],\n",
              "        [-0.33578128, -1.6436636 ],\n",
              "        [-0.69551337,  1.1935765 ],\n",
              "        [-0.27218217,  0.29413417],\n",
              "        [-0.39373672, -0.59706616],\n",
              "        [-0.25011304, -0.87634164],\n",
              "        [ 2.371419  ,  0.09032024],\n",
              "        [ 0.99387276,  1.1537551 ],\n",
              "        [-0.2565952 ,  1.0161724 ],\n",
              "        [-1.8222374 , -2.64807   ],\n",
              "        [-0.07056879,  0.27372703],\n",
              "        [ 0.18142028, -0.2902944 ],\n",
              "        [-0.6124729 , -0.7595077 ],\n",
              "        [-0.40435287, -1.1305872 ],\n",
              "        [ 0.25050092,  0.00590182],\n",
              "        [-0.36703464,  0.4003557 ],\n",
              "        [ 1.2290592 , -0.24445115],\n",
              "        [-1.6279387 , -0.35883108],\n",
              "        [ 0.9501902 ,  0.7212204 ],\n",
              "        [ 0.00768655, -0.03354125],\n",
              "        [-1.0002723 , -0.9595332 ],\n",
              "        [ 0.47104764, -0.04689471],\n",
              "        [-0.51376486, -1.0277328 ],\n",
              "        [-0.46120712, -0.3183543 ],\n",
              "        [-1.0091282 ,  0.8629016 ],\n",
              "        [-0.33934656, -0.261397  ],\n",
              "        [-0.68564487,  0.17500597],\n",
              "        [-0.5782187 ,  0.4527855 ],\n",
              "        [-0.13024415, -0.6019066 ],\n",
              "        [-0.29089427, -0.18371089],\n",
              "        [-0.7533813 ,  0.01598429],\n",
              "        [-1.4168323 ,  1.2116692 ]], dtype=float32)>,\n",
              " <tf.Tensor: shape=(64, 1), dtype=float32, numpy=\n",
              " array([[ 0.0839963 ],\n",
              "        [-1.2961011 ],\n",
              "        [ 6.274782  ],\n",
              "        [ 1.1074481 ],\n",
              "        [ 5.2971582 ],\n",
              "        [ 0.19915056],\n",
              "        [ 4.0874014 ],\n",
              "        [-3.7373166 ],\n",
              "        [ 5.876037  ],\n",
              "        [ 5.349873  ],\n",
              "        [ 2.0299206 ],\n",
              "        [ 1.8383394 ],\n",
              "        [-1.0061269 ],\n",
              "        [ 4.4523315 ],\n",
              "        [ 1.9032176 ],\n",
              "        [-2.9718385 ],\n",
              "        [ 0.921365  ],\n",
              "        [ 6.0548873 ],\n",
              "        [ 9.949186  ],\n",
              "        [ 5.3582377 ],\n",
              "        [ 0.04521751],\n",
              "        [ 5.7621346 ],\n",
              "        [ 2.6813245 ],\n",
              "        [ 3.0959487 ],\n",
              "        [ 0.82629347],\n",
              "        [ 5.8162374 ],\n",
              "        [ 2.2243283 ],\n",
              "        [-2.6013765 ],\n",
              "        [ 1.9005972 ],\n",
              "        [ 0.62080526],\n",
              "        [-2.8345833 ],\n",
              "        [ 1.3359747 ],\n",
              "        [ 1.7670467 ],\n",
              "        [ 3.53632   ],\n",
              "        [-0.38011646],\n",
              "        [ 1.7893194 ],\n",
              "        [ 2.315856  ],\n",
              "        [ 3.0260026 ],\n",
              "        [ 9.923937  ],\n",
              "        [ 4.7278633 ],\n",
              "        [ 1.114042  ],\n",
              "        [ 0.08135819],\n",
              "        [ 2.4145668 ],\n",
              "        [ 3.7345552 ],\n",
              "        [ 1.8220892 ],\n",
              "        [ 2.8175287 ],\n",
              "        [ 3.645601  ],\n",
              "        [ 1.3985405 ],\n",
              "        [ 6.831629  ],\n",
              "        [-1.6249852 ],\n",
              "        [ 5.0293503 ],\n",
              "        [ 2.956601  ],\n",
              "        [ 0.8587165 ],\n",
              "        [ 4.360038  ],\n",
              "        [ 2.3864384 ],\n",
              "        [ 1.834733  ],\n",
              "        [-0.99028635],\n",
              "        [ 2.1433573 ],\n",
              "        [ 0.6680596 ],\n",
              "        [ 0.7125585 ],\n",
              "        [ 3.111174  ],\n",
              "        [ 2.211028  ],\n",
              "        [ 0.6238718 ],\n",
              "        [-2.5621657 ]], dtype=float32)>)"
            ]
          },
          "metadata": {
            "tags": []
          },
          "execution_count": 21
        }
      ]
    },
    {
      "cell_type": "code",
      "metadata": {
        "id": "YWQa_UrE1Loe"
      },
      "source": [
        "initializer=tf.initializers.RandomNormal(stddev=0.01)\r\n",
        "model=tf.keras.Sequential()\r\n",
        "model.add(tf.keras.layers.Dense(1,kernel_initializer=initializer))"
      ],
      "execution_count": 26,
      "outputs": []
    },
    {
      "cell_type": "code",
      "metadata": {
        "id": "T1baxAcP117a"
      },
      "source": [
        "loss=tf.losses.MeanSquaredError()"
      ],
      "execution_count": 28,
      "outputs": []
    },
    {
      "cell_type": "code",
      "metadata": {
        "id": "RKg2UQ0a3Nbt"
      },
      "source": [
        "trainer=tf.optimizers.SGD(learning_rate=0.03)"
      ],
      "execution_count": 33,
      "outputs": []
    },
    {
      "cell_type": "code",
      "metadata": {
        "colab": {
          "base_uri": "https://localhost:8080/"
        },
        "id": "HyvQal7V3UGW",
        "outputId": "34a2ceb2-a425-46d4-9649-c5184b763c8f"
      },
      "source": [
        "for epoch in range(3):\r\n",
        "  for X,y in data_iter:\r\n",
        "    with tf.GradientTape() as tape:\r\n",
        "      l=loss(y,model(X))\r\n",
        "    grads=tape.gradient(l,model.trainable_variables)\r\n",
        "    trainer.apply_gradients(zip(grads,model.trainable_variables))\r\n",
        "  l=loss(labels,model(features))\r\n",
        "  print(f'Epoch{epoch} loss={l}')"
      ],
      "execution_count": 34,
      "outputs": [
        {
          "output_type": "stream",
          "text": [
            "Epoch0 loss=1.7591471612732335e-09\n",
            "Epoch1 loss=2.371116540958451e-12\n",
            "Epoch2 loss=2.4012252689692426e-12\n"
          ],
          "name": "stdout"
        }
      ]
    },
    {
      "cell_type": "code",
      "metadata": {
        "id": "_Lo1CZ-p5QSQ"
      },
      "source": [
        ""
      ],
      "execution_count": null,
      "outputs": []
    }
  ]
}